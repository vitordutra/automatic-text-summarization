{
  "cells": [
    {
      "cell_type": "markdown",
      "metadata": {
        "id": "GUEq8nGVXtwL"
      },
      "source": [
        "# Algoritmo de Luhn"
      ]
    },
    {
      "cell_type": "markdown",
      "metadata": {},
      "source": [
        "### Preprocessamento"
      ]
    },
    {
      "cell_type": "code",
      "execution_count": 9,
      "metadata": {},
      "outputs": [
        {
          "name": "stderr",
          "output_type": "stream",
          "text": [
            "[nltk_data] Downloading package stopwords to\n",
            "[nltk_data]     C:\\Users\\Vitor\\AppData\\Roaming\\nltk_data...\n",
            "[nltk_data]   Unzipping corpora\\stopwords.zip.\n"
          ]
        },
        {
          "data": {
            "text/plain": [
              "True"
            ]
          },
          "execution_count": 9,
          "metadata": {},
          "output_type": "execute_result"
        }
      ],
      "source": [
        "# !pip install spacy\n",
        "# !python -m spacy download pt_core_news_sm"
      ]
    },
    {
      "cell_type": "code",
      "execution_count": 6,
      "metadata": {},
      "outputs": [],
      "source": [
        "import spacy\n",
        "import re\n",
        "import nltk\n",
        "import string\n",
        "import heapq"
      ]
    },
    {
      "cell_type": "code",
      "execution_count": 10,
      "metadata": {},
      "outputs": [],
      "source": [
        "pln = spacy.load('pt_core_news_sm')"
      ]
    },
    {
      "cell_type": "code",
      "execution_count": 11,
      "metadata": {},
      "outputs": [
        {
          "name": "stderr",
          "output_type": "stream",
          "text": [
            "[nltk_data] Downloading package stopwords to\n",
            "[nltk_data]     C:\\Users\\Vitor\\AppData\\Roaming\\nltk_data...\n",
            "[nltk_data]   Package stopwords is already up-to-date!\n"
          ]
        },
        {
          "data": {
            "text/plain": [
              "True"
            ]
          },
          "execution_count": 11,
          "metadata": {},
          "output_type": "execute_result"
        }
      ],
      "source": [
        "nltk.download('stopwords')"
      ]
    },
    {
      "cell_type": "code",
      "execution_count": 22,
      "metadata": {},
      "outputs": [],
      "source": [
        "def preprocessamento(texto):\n",
        "  stopwords = nltk.corpus.stopwords.words('portuguese')\n",
        "  texto = texto.lower()\n",
        "  texto = re.sub(r\" +\", ' ', texto)\n",
        "  documento = pln(texto)\n",
        "  tokens = []\n",
        "  for token in documento:\n",
        "    tokens.append(token.lemma_)\n",
        "  tokens = [palavra for palavra in tokens if palavra not in stopwords and palavra not in string.punctuation]\n",
        "  texto_formatado = ' '.join([str(elemento) for elemento in tokens if not elemento.isdigit()])\n",
        "  return texto_formatado"
      ]
    },
    {
      "cell_type": "code",
      "execution_count": 7,
      "metadata": {},
      "outputs": [],
      "source": [
        "texto_original = \"\"\"A inteligência artificial é a inteligência similar à humana máquinas. \n",
        "                    Definem como o estudo de agente artificial com inteligência. \n",
        "                    Ciência e engenharia de produzir máquinas com inteligência. \n",
        "                    Resolver problemas e possuir inteligência. \n",
        "                    Relacionada ao comportamento inteligente. \n",
        "                    Construção de máquinas para raciocinar. \n",
        "                    Aprender com os erros e acertos. \n",
        "                    Inteligência artificial é raciocinar nas situações do cotidiano.\"\"\""
      ]
    },
    {
      "cell_type": "code",
      "execution_count": 13,
      "metadata": {},
      "outputs": [
        {
          "data": {
            "text/plain": [
              "'inteligência artificial ser inteligência similar humano máquina \\n  definir comer estudar agente artificial inteligência \\n  ciência engenhar produzir máquina inteligência \\n  resolver problema possuir inteligência \\n  relacionar comportamento inteligente \\n  construção máquina parir raciocinar \\n  aprender erro acerto \\n  inteligência artificial ser raciocinar situação cotidiano'"
            ]
          },
          "execution_count": 13,
          "metadata": {},
          "output_type": "execute_result"
        }
      ],
      "source": [
        "preprocessamento_lematizacao(texto_original)"
      ]
    },
    {
      "cell_type": "code",
      "execution_count": 20,
      "metadata": {},
      "outputs": [],
      "source": [
        "def calcula_nota_sentenca(sentencas, palavras_importantes, distancia):\n",
        "  notas = []\n",
        "  indice_sentenca = 0\n",
        "  for sentenca in [nltk.word_tokenize(sentenca.lower()) for sentenca in sentencas]:\n",
        "    indice_palavra = []\n",
        "    for palavra in palavras_importantes:\n",
        "      try:\n",
        "        indice_palavra.append(sentenca.index(palavra))\n",
        "      except ValueError:\n",
        "        pass\n",
        "    indice_palavra.sort()\n",
        "    if len(indice_palavra) == 0:\n",
        "      continue\n",
        "    lista_grupos = []\n",
        "    grupo = [indice_palavra[0]]\n",
        "    i = 1\n",
        "    while i < len(indice_palavra):\n",
        "      if indice_palavra[i] - indice_palavra[i - 1] < distancia:\n",
        "        grupo.append(indice_palavra[i])\n",
        "      else:\n",
        "        lista_grupos.append(grupo[:])\n",
        "        grupo = [indice_palavra[i]]\n",
        "      i += 1\n",
        "    lista_grupos.append(grupo)\n",
        "    nota_maxima_grupo = 0\n",
        "    for g in lista_grupos:\n",
        "      palavras_importantes_no_grupo = len(g)\n",
        "      total_palavras_no_grupo = g[-1] - g[0] + 1\n",
        "      nota = 1.0 * palavras_importantes_no_grupo**2 / total_palavras_no_grupo\n",
        "      if nota > nota_maxima_grupo:\n",
        "        nota_maxima_grupo = nota\n",
        "    notas.append((nota_maxima_grupo, indice_sentenca))\n",
        "    indice_sentenca += 1\n",
        "  return notas"
      ]
    },
    {
      "cell_type": "code",
      "execution_count": 19,
      "metadata": {},
      "outputs": [],
      "source": [
        "def sumarizar(texto, top_n_palavras, distancia, quantidade_sentencas):\n",
        "  sentencas_originais = [sentenca for sentenca in nltk.sent_tokenize(texto)]\n",
        "  sentencas_formatadas = [preprocessamento_lematizacao(sentenca_original) for sentenca_original in sentencas_originais]\n",
        "  palavras = [palavra.lower() for sentenca in sentencas_formatadas for palavra in nltk.tokenize.word_tokenize(sentenca)]\n",
        "  frequencia = nltk.FreqDist(palavras)\n",
        "  top_n_palavras = [palavra[0] for palavra in frequencia.most_common(top_n_palavras)]\n",
        "  notas_sentencas = calcula_nota_sentenca(sentencas_formatadas, top_n_palavras, distancia)\n",
        "  melhores_sentencas = heapq.nlargest(quantidade_sentencas, notas_sentencas)\n",
        "  melhores_sentencas = [sentencas_originais[i] for (nota, i) in melhores_sentencas]\n",
        "  \n",
        "  return sentencas_originais, melhores_sentencas, notas_sentencas"
      ]
    },
    {
      "cell_type": "markdown",
      "metadata": {},
      "source": [
        "### Teste da Função de Sumarização"
      ]
    },
    {
      "cell_type": "code",
      "execution_count": 25,
      "metadata": {},
      "outputs": [],
      "source": [
        "sentencas_originais, melhores_sentencas, notas_sentencas = sumarizar(texto_original, 5, 3, 3)"
      ]
    },
    {
      "cell_type": "code",
      "execution_count": 26,
      "metadata": {},
      "outputs": [
        {
          "data": {
            "text/plain": [
              "['Construção de máquinas para raciocinar.',\n",
              " 'A inteligência artificial é a inteligência similar à humana máquinas.',\n",
              " 'Ciência e engenharia de produzir máquinas com inteligência.']"
            ]
          },
          "execution_count": 26,
          "metadata": {},
          "output_type": "execute_result"
        }
      ],
      "source": [
        "melhores_sentencas"
      ]
    },
    {
      "cell_type": "markdown",
      "metadata": {},
      "source": [
        "### Sumarização de Artigos de Blog usando o Algoritmo de Luhn"
      ]
    },
    {
      "cell_type": "code",
      "execution_count": 24,
      "metadata": {},
      "outputs": [],
      "source": [
        "from goose3 import Goose\n",
        "g = Goose()\n",
        "url = 'https://www.inovacaotecnologica.com.br/noticias/noticia.php?artigo=inteligencia-artificial-descobre-leis-fisica-ocultas-dados&id=010150211230'\n",
        "artigo = g.extract(url)"
      ]
    },
    {
      "cell_type": "code",
      "execution_count": 29,
      "metadata": {},
      "outputs": [],
      "source": [
        "sentencas_originais, melhores_sentencas, notas_sentencas = sumarizar(artigo.cleaned_text, 5, 3, 5)"
      ]
    },
    {
      "cell_type": "code",
      "execution_count": 30,
      "metadata": {},
      "outputs": [
        {
          "data": {
            "text/plain": [
              "['Essas simulações usam modelos matemáticos baseados nas leis da física que são conhecidas.',\n",
              " 'Pesquisadores das universidades de Kobe e Osaka, no Japão, desenvolveram um sistema de inteligência artificial capaz de extrair equações de movimento de bases de dados observacionais comuns, e criar um modelo que é fiel às leis da física.',\n",
              " 'Isso poderia ser usado para investigar a sustentabilidade do ecossistema, aplicando as leis físicas apropriadas (por exemplo, a lei de conservação de energia).',\n",
              " 'Além de fornecer resultados mais rapidamente, serão resultados mais fiéis às leis da física.',\n",
              " 'As simulações de sistemas físicos são realizadas em uma ampla gama de campos, incluindo previsão do tempo, descoberta de novos medicamentos, análises de edifícios, design de automóveis e muito mais.']"
            ]
          },
          "execution_count": 30,
          "metadata": {},
          "output_type": "execute_result"
        }
      ],
      "source": [
        "melhores_sentencas"
      ]
    }
  ],
  "metadata": {
    "colab": {
      "collapsed_sections": [],
      "include_colab_link": true,
      "name": "Algoritmo básico baseado em frequência para sumarização.ipynb",
      "provenance": []
    },
    "kernelspec": {
      "display_name": "Python 3",
      "name": "python3"
    },
    "language_info": {
      "codemirror_mode": {
        "name": "ipython",
        "version": 3
      },
      "file_extension": ".py",
      "mimetype": "text/x-python",
      "name": "python",
      "nbconvert_exporter": "python",
      "pygments_lexer": "ipython3",
      "version": "3.8.5"
    }
  },
  "nbformat": 4,
  "nbformat_minor": 0
}
