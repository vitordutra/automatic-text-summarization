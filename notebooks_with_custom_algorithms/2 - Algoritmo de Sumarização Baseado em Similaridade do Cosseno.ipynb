{
  "cells": [
    {
      "cell_type": "markdown",
      "metadata": {
        "id": "GUEq8nGVXtwL"
      },
      "source": [
        "# Algoritmo de Sumarização Baseado em Similaridade do Cosseno"
      ]
    },
    {
      "cell_type": "markdown",
      "metadata": {},
      "source": [
        "### Preprocessamento"
      ]
    },
    {
      "cell_type": "code",
      "execution_count": 9,
      "metadata": {},
      "outputs": [
        {
          "name": "stderr",
          "output_type": "stream",
          "text": [
            "[nltk_data] Downloading package stopwords to\n",
            "[nltk_data]     C:\\Users\\Vitor\\AppData\\Roaming\\nltk_data...\n",
            "[nltk_data]   Unzipping corpora\\stopwords.zip.\n"
          ]
        },
        {
          "data": {
            "text/plain": [
              "True"
            ]
          },
          "execution_count": 9,
          "metadata": {},
          "output_type": "execute_result"
        }
      ],
      "source": [
        "# !pip install spacy\n",
        "# !python -m spacy download pt_core_news_sm"
      ]
    },
    {
      "cell_type": "code",
      "execution_count": 4,
      "metadata": {},
      "outputs": [],
      "source": [
        "import spacy\n",
        "import re\n",
        "import nltk\n",
        "import string\n",
        "import heapq\n",
        "import numpy as np\n",
        "from nltk.cluster.util import cosine_distance\n",
        "import networkx as nx"
      ]
    },
    {
      "cell_type": "code",
      "execution_count": 6,
      "metadata": {},
      "outputs": [
        {
          "name": "stderr",
          "output_type": "stream",
          "text": [
            "[nltk_data] Downloading package punkt to\n",
            "[nltk_data]     C:\\Users\\Vitor\\AppData\\Roaming\\nltk_data...\n",
            "[nltk_data]   Package punkt is already up-to-date!\n",
            "[nltk_data] Downloading package stopwords to\n",
            "[nltk_data]     C:\\Users\\Vitor\\AppData\\Roaming\\nltk_data...\n",
            "[nltk_data]   Package stopwords is already up-to-date!\n"
          ]
        },
        {
          "data": {
            "text/plain": [
              "True"
            ]
          },
          "execution_count": 6,
          "metadata": {},
          "output_type": "execute_result"
        }
      ],
      "source": [
        "pln = spacy.load('pt_core_news_sm')\n",
        "nltk.download('punkt')\n",
        "nltk.download('stopwords')"
      ]
    },
    {
      "cell_type": "code",
      "execution_count": 7,
      "metadata": {},
      "outputs": [],
      "source": [
        "def preprocessamento(texto):\n",
        "  stopwords = nltk.corpus.stopwords.words('portuguese')\n",
        "  texto = texto.lower()\n",
        "  texto = re.sub(r\" +\", ' ', texto)\n",
        "  documento = pln(texto)\n",
        "  tokens = []\n",
        "  for token in documento:\n",
        "    tokens.append(token.lemma_)\n",
        "  tokens = [palavra for palavra in tokens if palavra not in stopwords and palavra not in string.punctuation]\n",
        "  texto_formatado = ' '.join([str(elemento) for elemento in tokens if not elemento.isdigit()])\n",
        "  return texto_formatado"
      ]
    },
    {
      "cell_type": "code",
      "execution_count": 8,
      "metadata": {},
      "outputs": [],
      "source": [
        "texto_original = \"\"\"A inteligência artificial é a inteligência similar à humana máquinas. \n",
        "                    Definem como o estudo de agente artificial com inteligência. \n",
        "                    Ciência e engenharia de produzir máquinas com inteligência. \n",
        "                    Resolver problemas e possuir inteligência. \n",
        "                    Relacionada ao comportamento inteligente. \n",
        "                    Construção de máquinas para raciocinar. \n",
        "                    Aprender com os erros e acertos. \n",
        "                    Inteligência artificial é raciocinar nas situações do cotidiano.\"\"\""
      ]
    },
    {
      "cell_type": "code",
      "execution_count": 10,
      "metadata": {},
      "outputs": [
        {
          "data": {
            "text/plain": [
              "'inteligência artificial ser inteligência similar humano máquina \\n  definir comer estudar agente artificial inteligência \\n  ciência engenhar produzir máquina inteligência \\n  resolver problema possuir inteligência \\n  relacionar comportamento inteligente \\n  construção máquina parir raciocinar \\n  aprender erro acerto \\n  inteligência artificial ser raciocinar situação cotidiano'"
            ]
          },
          "execution_count": 10,
          "metadata": {},
          "output_type": "execute_result"
        }
      ],
      "source": [
        "preprocessamento(texto_original)"
      ]
    },
    {
      "cell_type": "markdown",
      "metadata": {},
      "source": [
        "### Função para calcular a similaridade entre as sentenças"
      ]
    },
    {
      "cell_type": "code",
      "execution_count": 12,
      "metadata": {},
      "outputs": [],
      "source": [
        "def calcula_similaridade_sentencas(sentenca1, sentenca2):\n",
        "  palavras1 = [palavra for palavra in nltk.word_tokenize(sentenca1)]\n",
        "  palavras2 = [palavra for palavra in nltk.word_tokenize(sentenca2)]\n",
        "  todas_palavras = list(set(palavras1 + palavras2))\n",
        "  vetor1 = [0] * len(todas_palavras)\n",
        "  vetor2 = [0] * len(todas_palavras)\n",
        "  for palavra in palavras1:\n",
        "    vetor1[todas_palavras.index(palavra)] += 1\n",
        "  for palavra in palavras2:\n",
        "    vetor2[todas_palavras.index(palavra)] += 1\n",
        "  return 1 - cosine_distance(vetor1, vetor2)"
      ]
    },
    {
      "cell_type": "code",
      "execution_count": 13,
      "metadata": {},
      "outputs": [
        {
          "data": {
            "text/plain": [
              "1.0"
            ]
          },
          "execution_count": 13,
          "metadata": {},
          "output_type": "execute_result"
        }
      ],
      "source": [
        "calcula_similaridade_sentencas(sentencas_formatadas[0], sentencas_formatadas[0])"
      ]
    },
    {
      "cell_type": "markdown",
      "metadata": {},
      "source": [
        "### Função para gerar a matriz de similaridade"
      ]
    },
    {
      "cell_type": "code",
      "execution_count": 14,
      "metadata": {},
      "outputs": [],
      "source": [
        "def calcula_matriz_similaridade(sentencas):\n",
        "  matriz_similaridade = np.zeros((len(sentencas), len(sentencas)))\n",
        "  for i in range(len(sentencas)):\n",
        "    for j in range(len(sentencas)):\n",
        "      if i == j:\n",
        "        continue\n",
        "      matriz_similaridade[i][j] = calcula_similaridade_sentencas(sentencas[i], sentencas[j])\n",
        "  return matriz_similaridade"
      ]
    },
    {
      "cell_type": "code",
      "execution_count": 16,
      "metadata": {},
      "outputs": [
        {
          "data": {
            "text/plain": [
              "array([[0.        , 0.40824829, 0.4472136 , 0.33333333, 0.        ,\n",
              "        0.16666667, 0.        , 0.54433105],\n",
              "       [0.40824829, 0.        , 0.18257419, 0.20412415, 0.        ,\n",
              "        0.        , 0.        , 0.33333333],\n",
              "       [0.4472136 , 0.18257419, 0.        , 0.2236068 , 0.        ,\n",
              "        0.2236068 , 0.        , 0.18257419],\n",
              "       [0.33333333, 0.20412415, 0.2236068 , 0.        , 0.        ,\n",
              "        0.        , 0.        , 0.20412415],\n",
              "       [0.        , 0.        , 0.        , 0.        , 0.        ,\n",
              "        0.        , 0.        , 0.        ],\n",
              "       [0.16666667, 0.        , 0.2236068 , 0.        , 0.        ,\n",
              "        0.        , 0.        , 0.20412415],\n",
              "       [0.        , 0.        , 0.        , 0.        , 0.        ,\n",
              "        0.        , 0.        , 0.        ],\n",
              "       [0.54433105, 0.33333333, 0.18257419, 0.20412415, 0.        ,\n",
              "        0.20412415, 0.        , 0.        ]])"
            ]
          },
          "execution_count": 16,
          "metadata": {},
          "output_type": "execute_result"
        }
      ],
      "source": [
        "calcula_matriz_similaridade(sentencas_formatadas)"
      ]
    },
    {
      "cell_type": "markdown",
      "metadata": {},
      "source": [
        "### Função de Sumarização"
      ]
    },
    {
      "cell_type": "code",
      "execution_count": 17,
      "metadata": {},
      "outputs": [],
      "source": [
        "def sumarizar(texto, quantidade_sentencas):\n",
        "  sentencas_originais = [sentenca for sentenca in nltk.sent_tokenize(texto)]\n",
        "  sentencas_formatadas = [preprocessamento(sentenca_original) for sentenca_original in sentencas_originais]\n",
        "  matriz_similaridade = calcula_matriz_similaridade(sentencas_formatadas)\n",
        "  grafo_similaridade = nx.from_numpy_array(matriz_similaridade)\n",
        "  notas = nx.pagerank(grafo_similaridade)\n",
        "  notas_ordenadas = sorted(((notas[i], nota) for i, nota in enumerate(sentencas_originais)), reverse=True)\n",
        "  melhores_sentencas = []\n",
        "  for i in range(quantidade_sentencas):\n",
        "    melhores_sentencas.append(notas_ordenadas[i][1])\n",
        "  return sentencas_originais, melhores_sentencas, notas_ordenadas"
      ]
    },
    {
      "cell_type": "markdown",
      "metadata": {},
      "source": [
        "### Teste da Função de Sumarização"
      ]
    },
    {
      "cell_type": "code",
      "execution_count": 19,
      "metadata": {},
      "outputs": [],
      "source": [
        "sentencas_originais, melhores_sentencas, notas_sentencas = sumarizar(texto_original, 3)"
      ]
    },
    {
      "cell_type": "code",
      "execution_count": 20,
      "metadata": {},
      "outputs": [
        {
          "data": {
            "text/plain": [
              "['A inteligência artificial é a inteligência similar à humana máquinas.',\n",
              " 'Inteligência artificial é raciocinar nas situações do cotidiano.',\n",
              " 'Ciência e engenharia de produzir máquinas com inteligência.']"
            ]
          },
          "execution_count": 20,
          "metadata": {},
          "output_type": "execute_result"
        }
      ],
      "source": [
        "melhores_sentencas"
      ]
    },
    {
      "cell_type": "markdown",
      "metadata": {},
      "source": [
        "### Sumarização de Artigos de Blog usando o Algoritmo de Baseado em Similaridade do Cosseno"
      ]
    },
    {
      "cell_type": "code",
      "execution_count": 21,
      "metadata": {},
      "outputs": [],
      "source": [
        "from goose3 import Goose\n",
        "g = Goose()\n",
        "url = 'https://www.inovacaotecnologica.com.br/noticias/noticia.php?artigo=inteligencia-artificial-descobre-leis-fisica-ocultas-dados&id=010150211230'\n",
        "artigo = g.extract(url)"
      ]
    },
    {
      "cell_type": "code",
      "execution_count": 22,
      "metadata": {},
      "outputs": [],
      "source": [
        "sentencas_originais, melhores_sentencas, notas_sentencas = sumarizar(artigo.cleaned_text, 5)"
      ]
    },
    {
      "cell_type": "code",
      "execution_count": 23,
      "metadata": {},
      "outputs": [
        {
          "data": {
            "text/plain": [
              "['Sendo possível extrair dos dados as equações de movimento, então torna-se possível usar essas equações para criar modelos e simulações que sejam fiéis às leis da física.',\n",
              " 'Hoje, o trabalho de fazer previsões de fenômenos físicos, como os do clima, é realizado por meio de modelos científicos, que são programados para criar simulações usando supercomputadores.',\n",
              " 'Se equações de movimento puderem ser extraídas de tais casos, isso tornará possível fazer investigações e simulações mesmo desses fenômenos que até agora têm sido considerados impossíveis de se explicar usando a física.',\n",
              " 'Yuhan Chen e seus colegas criaram uma ferramenta para fazer justamente isto, uma técnica para descobrir novas equações de movimento em dados observacionais para fenômenos aos quais as Leis de Newton podem ser aplicadas.',\n",
              " 'Isso poderia ser usado para investigar a sustentabilidade do ecossistema, aplicando as leis físicas apropriadas (por exemplo, a lei de conservação de energia).']"
            ]
          },
          "execution_count": 23,
          "metadata": {},
          "output_type": "execute_result"
        }
      ],
      "source": [
        "melhores_sentencas"
      ]
    }
  ],
  "metadata": {
    "colab": {
      "collapsed_sections": [],
      "include_colab_link": true,
      "name": "Algoritmo básico baseado em frequência para sumarização.ipynb",
      "provenance": []
    },
    "kernelspec": {
      "display_name": "Python 3",
      "name": "python3"
    },
    "language_info": {
      "codemirror_mode": {
        "name": "ipython",
        "version": 3
      },
      "file_extension": ".py",
      "mimetype": "text/x-python",
      "name": "python",
      "nbconvert_exporter": "python",
      "pygments_lexer": "ipython3",
      "version": "3.8.5"
    }
  },
  "nbformat": 4,
  "nbformat_minor": 0
}
