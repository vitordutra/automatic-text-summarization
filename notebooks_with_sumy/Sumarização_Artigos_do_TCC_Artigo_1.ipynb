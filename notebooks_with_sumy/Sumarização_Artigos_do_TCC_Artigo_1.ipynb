{
  "cells": [
    {
      "cell_type": "code",
      "execution_count": 3,
      "metadata": {
        "id": "APuwhuWprMRz"
      },
      "outputs": [],
      "source": [
        "from goose3 import Goose\n",
        "g = Goose()\n",
        "url = 'https://www.inovacaotecnologica.com.br/noticias/noticia.php?artigo=inteligencia-artificial-descobre-leis-fisica-ocultas-dados&id=010150211230'\n",
        "artigo_portugues = g.extract(url)"
      ]
    },
    {
      "cell_type": "code",
      "execution_count": 4,
      "metadata": {
        "colab": {
          "base_uri": "https://localhost:8080/",
          "height": 139
        },
        "id": "Xn828pdOrQPH",
        "outputId": "02a707e2-78fb-44f3-8026-42432b0d8019"
      },
      "outputs": [
        {
          "data": {
            "text/plain": [
              "'Pesquisadores das universidades de Kobe e Osaka, no Japão, desenvolveram um sistema de inteligência artificial capaz de extrair equações de movimento de bases de dados observacionais comuns, e criar um modelo que é fiel às leis da física.\\n\\nEssa tecnologia poderá permitir descobrir outras equações e \"leis\" da física ainda desconhecidas, mas que estão intrinsecamente incorporadas nos fenômenos e nos dados que os descrevem, para os quais ainda usamos termos como \"inexplicáveis\" ou \"caóticos\".\\n\\nPor exemplo, pode ser possível usar o conhecimento baseado na física para criar simulações capazes de examinar a sustentabilidade de um ecossistema, ou melhorar as previsões do tempo.\\n\\nSer capaz de modelar - criar \"gêmeos digitais\", para usar um termo da moda - fenômenos físicos usando inteligência artificial poderá resultar em simulações extremamente precisas e de alta velocidade.\\n\\nHoje, o trabalho de fazer previsões de fenômenos físicos, como os do clima, é realizado por meio de modelos científicos, que são programados para criar simulações usando supercomputadores. Essas simulações usam modelos matemáticos baseados nas leis da física que são conhecidas.\\n\\nNo entanto, se o modelo não for altamente confiável, os resultados também serão desprovidos de confiabilidade. E estamos muito longe de conseguir derivar todas as regras que ditam o comportamento dos fenômenos que observamos para criar modelos que realmente espelhem a natureza. Portanto, é essencial desenvolver um método de produção de modelos altamente confiáveis a partir dos dados observacionais dos fenômenos.\\n\\nAlém disso, nos últimos anos a gama de aplicações da física se expandiu muito, e hoje já se sabe que é possível aplicar as Leis de Newton a outros aspectos, como partes de um modelo para mostrar as mudanças de um ecossistema.\\n\\nNo entanto, ainda não conseguimos desvendar uma equação de movimento concreta para muitos casos.\\n\\nYuhan Chen e seus colegas criaram uma ferramenta para fazer justamente isto, uma técnica para descobrir novas equações de movimento em dados observacionais para fenômenos aos quais as Leis de Newton podem ser aplicadas.\\n\\nJá foram feitos progressos na descoberta de equações de movimento a partir de dados, mas os trabalhos anteriores exigiam que os dados estivessem no formato apropriado para se ajustar à sua forma especial assumida de equação de movimento. Ocorre que a realidade nos apresenta muitos casos em que não está claro qual formato de dados é melhor usar.\\n\\nPara superar essa deficiência, os pesquisadores consideraram que a transformação apropriada dos dados observacionais é semelhante à transformação de coordenadas em geometria, bastando assim aplicar aos dados a ideia geométrica de invariância de transformação de coordenadas encontrada na física. É nisto - encontrar essas propriedades geométricas nos dados - que consiste o trabalho do sistema de inteligência artificial desenvolvido pela equipe.\\n\\nA expectativa é que isso permita descobrir as leis físicas ocultas por trás de fenômenos que antes eram considerados incompatíveis com as Leis de Newton, por exemplo, como as mudanças, alterações e sinergias observadas nos ecossistemas. Sendo possível extrair dos dados as equações de movimento, então torna-se possível usar essas equações para criar modelos e simulações que sejam fiéis às leis da física.\\n\\nAs simulações de sistemas físicos são realizadas em uma ampla gama de campos, incluindo previsão do tempo, descoberta de novos medicamentos, análises de edifícios, design de automóveis e muito mais. São todas aplicações que rodam em supercomputadores, porque são intensivas em cálculos.\\n\\nNo entanto, se a inteligência artificial puder aprender com os dados de fenômenos específicos, e já construir os modelos, isso simplificará e acelerará os cálculos. Além de fornecer resultados mais rapidamente, serão resultados mais fiéis às leis da física.\\n\\nAlém disso, este método poderá ser aplicado a aspectos que, à primeira vista, parecem não ter relação com a física. Se equações de movimento puderem ser extraídas de tais casos, isso tornará possível fazer investigações e simulações mesmo desses fenômenos que até agora têm sido considerados impossíveis de se explicar usando a física.\\n\\nPor exemplo, poderá ser possível encontrar uma equação de movimento oculta nos dados de uma população animal que mostre a mudança no número de indivíduos. Isso poderia ser usado para investigar a sustentabilidade do ecossistema, aplicando as leis físicas apropriadas (por exemplo, a lei de conservação de energia).'"
            ]
          },
          "execution_count": 4,
          "metadata": {},
          "output_type": "execute_result"
        }
      ],
      "source": [
        "artigo_portugues.cleaned_text"
      ]
    },
    {
      "cell_type": "code",
      "execution_count": 15,
      "metadata": {
        "id": "rgmunlaBrmnu"
      },
      "outputs": [],
      "source": [
        "from sumy.parsers.plaintext import PlaintextParser\n",
        "from sumy.nlp.tokenizers import Tokenizer\n",
        "from sumy.summarizers.luhn import LuhnSummarizer\n",
        "from sumy.summarizers.lsa import LsaSummarizer\n",
        "from sumy.summarizers.text_rank import TextRankSummarizer"
      ]
    },
    {
      "cell_type": "code",
      "execution_count": 16,
      "metadata": {
        "id": "DLW3qb_bsD85"
      },
      "outputs": [],
      "source": [
        "parser = PlaintextParser.from_string(artigo_portugues.cleaned_text, Tokenizer('portuguese'))"
      ]
    },
    {
      "cell_type": "markdown",
      "metadata": {
        "id": "yXXVDHAktsAl"
      },
      "source": [
        "## Algoritmo de Luhn"
      ]
    },
    {
      "cell_type": "code",
      "execution_count": 17,
      "metadata": {
        "colab": {
          "base_uri": "https://localhost:8080/"
        },
        "id": "QOtBe4IFsGwK",
        "outputId": "70b37ea1-7f14-4b1d-c369-f6fc411b109d"
      },
      "outputs": [
        {
          "data": {
            "text/plain": [
              "(<Sentence: Pesquisadores das universidades de Kobe e Osaka, no Japão, desenvolveram um sistema de inteligência artificial capaz de extrair equações de movimento de bases de dados observacionais comuns, e criar um modelo que é fiel às leis da física.>,\n",
              " <Sentence: Hoje, o trabalho de fazer previsões de fenômenos físicos, como os do clima, é realizado por meio de modelos científicos, que são programados para criar simulações usando supercomputadores.>,\n",
              " <Sentence: Além disso, nos últimos anos a gama de aplicações da física se expandiu muito, e hoje já se sabe que é possível aplicar as Leis de Newton a outros aspectos, como partes de um modelo para mostrar as mudanças de um ecossistema.>,\n",
              " <Sentence: Para superar essa deficiência, os pesquisadores consideraram que a transformação apropriada dos dados observacionais é semelhante à transformação de coordenadas em geometria, bastando assim aplicar aos dados a ideia geométrica de invariância de transformação de coordenadas encontrada na física.>,\n",
              " <Sentence: Sendo possível extrair dos dados as equações de movimento, então torna-se possível usar essas equações para criar modelos e simulações que sejam fiéis às leis da física.>)"
            ]
          },
          "execution_count": 17,
          "metadata": {},
          "output_type": "execute_result"
        }
      ],
      "source": [
        "sumarizador_luhn = LuhnSummarizer()\n",
        "resumo_luhn = sumarizador_luhn(parser.document, 5)\n",
        "resumo_luhn"
      ]
    },
    {
      "cell_type": "markdown",
      "metadata": {
        "id": "2LA0bbr5twMn"
      },
      "source": [
        "## Algoritmo LSA"
      ]
    },
    {
      "cell_type": "code",
      "execution_count": 18,
      "metadata": {
        "colab": {
          "base_uri": "https://localhost:8080/"
        },
        "id": "O7jhu9MdtvVE",
        "outputId": "9e502e46-80e8-4b61-cee2-10ed213312a1"
      },
      "outputs": [
        {
          "data": {
            "text/plain": [
              "(<Sentence: Essa tecnologia poderá permitir descobrir outras equações e \"leis\" da física ainda desconhecidas, mas que estão intrinsecamente incorporadas nos fenômenos e nos dados que os descrevem, para os quais ainda usamos termos como \"inexplicáveis\" ou \"caóticos\".>,\n",
              " <Sentence: Essas simulações usam modelos matemáticos baseados nas leis da física que são conhecidas.>,\n",
              " <Sentence: No entanto, se o modelo não for altamente confiável, os resultados também serão desprovidos de confiabilidade.>,\n",
              " <Sentence: No entanto, ainda não conseguimos desvendar uma equação de movimento concreta para muitos casos.>,\n",
              " <Sentence: É nisto - encontrar essas propriedades geométricas nos dados - que consiste o trabalho do sistema de inteligência artificial desenvolvido pela equipe.>)"
            ]
          },
          "execution_count": 18,
          "metadata": {},
          "output_type": "execute_result"
        }
      ],
      "source": [
        "sumarizador_lsa = LsaSummarizer()\n",
        "resumo_lsa = sumarizador_lsa(parser.document, 5)\n",
        "resumo_lsa"
      ]
    },
    {
      "cell_type": "markdown",
      "metadata": {
        "id": "AS8tMu_xumBZ"
      },
      "source": [
        "## Algoritmo TextRank"
      ]
    },
    {
      "cell_type": "code",
      "execution_count": 19,
      "metadata": {
        "colab": {
          "base_uri": "https://localhost:8080/"
        },
        "id": "InbJz8acuoyp",
        "outputId": "965c69dc-dd1e-4316-b75c-5ed77057908e"
      },
      "outputs": [
        {
          "data": {
            "text/plain": [
              "(<Sentence: Pesquisadores das universidades de Kobe e Osaka, no Japão, desenvolveram um sistema de inteligência artificial capaz de extrair equações de movimento de bases de dados observacionais comuns, e criar um modelo que é fiel às leis da física.>,\n",
              " <Sentence: Além disso, nos últimos anos a gama de aplicações da física se expandiu muito, e hoje já se sabe que é possível aplicar as Leis de Newton a outros aspectos, como partes de um modelo para mostrar as mudanças de um ecossistema.>,\n",
              " <Sentence: Já foram feitos progressos na descoberta de equações de movimento a partir de dados, mas os trabalhos anteriores exigiam que os dados estivessem no formato apropriado para se ajustar à sua forma especial assumida de equação de movimento.>,\n",
              " <Sentence: Para superar essa deficiência, os pesquisadores consideraram que a transformação apropriada dos dados observacionais é semelhante à transformação de coordenadas em geometria, bastando assim aplicar aos dados a ideia geométrica de invariância de transformação de coordenadas encontrada na física.>,\n",
              " <Sentence: As simulações de sistemas físicos são realizadas em uma ampla gama de campos, incluindo previsão do tempo, descoberta de novos medicamentos, análises de edifícios, design de automóveis e muito mais.>)"
            ]
          },
          "execution_count": 19,
          "metadata": {},
          "output_type": "execute_result"
        }
      ],
      "source": [
        "sumarizador_textrank = TextRankSummarizer()\n",
        "resumo_textrank = sumarizador_textrank(parser.document, 5)\n",
        "resumo_textrank"
      ]
    },
    {
      "cell_type": "markdown",
      "metadata": {},
      "source": [
        "## Sumarização Extrativa usando arquitetura de aprendizagem profunda BERT"
      ]
    },
    {
      "cell_type": "code",
      "execution_count": 7,
      "metadata": {},
      "outputs": [
        {
          "name": "stderr",
          "output_type": "stream",
          "text": [
            "Downloading: 100%|██████████| 648/648 [00:00<00:00, 325kB/s]\n",
            "Downloading: 100%|██████████| 210k/210k [00:00<00:00, 408kB/s]  \n",
            "Downloading: 100%|██████████| 2.00/2.00 [00:00<00:00, 2.01kB/s]\n",
            "Downloading: 100%|██████████| 112/112 [00:00<00:00, 116kB/s]\n",
            "Downloading: 100%|██████████| 155/155 [00:00<00:00, 153kB/s]\n",
            "Downloading: 100%|██████████| 1.34G/1.34G [02:05<00:00, 10.7MB/s] \n",
            "Some weights of the model checkpoint at neuralmind/bert-large-portuguese-cased were not used when initializing BertModel: ['cls.predictions.transform.LayerNorm.weight', 'cls.predictions.transform.dense.bias', 'cls.seq_relationship.bias', 'cls.predictions.transform.LayerNorm.bias', 'cls.predictions.transform.dense.weight', 'cls.seq_relationship.weight', 'cls.predictions.bias', 'cls.predictions.decoder.weight']\n",
            "- This IS expected if you are initializing BertModel from the checkpoint of a model trained on another task or with another architecture (e.g. initializing a BertForSequenceClassification model from a BertForPreTraining model).\n",
            "- This IS NOT expected if you are initializing BertModel from the checkpoint of a model that you expect to be exactly identical (initializing a BertForSequenceClassification model from a BertForSequenceClassification model).\n"
          ]
        },
        {
          "data": {
            "text/plain": [
              "'Pesquisadores das universidades de Kobe e Osaka, no Japão, desenvolveram um sistema de inteligência artificial capaz de extrair equações de movimento de bases de dados observacionais comuns, e criar um modelo que é fiel às leis da física. Hoje, o trabalho de fazer previsões de fenômenos físicos, como os do clima, é realizado por meio de modelos científicos, que são programados para criar simulações usando supercomputadores. E estamos muito longe de conseguir derivar todas as regras que ditam o comportamento dos fenômenos que observamos para criar modelos que realmente espelhem a natureza. Além disso, nos últimos anos a gama de aplicações da física se expandiu muito, e hoje já se sabe que é possível aplicar as Leis de Newton a outros aspectos, como partes de um modelo para mostrar as mudanças de um ecossistema. Sendo possível extrair dos dados as equações de movimento, então torna-se possível usar essas equações para criar modelos e simulações que sejam fiéis às leis da física. Por exemplo, poderá ser possível encontrar uma equação de movimento oculta nos dados de uma população animal que mostre a mudança no número de indivíduos.'"
            ]
          },
          "execution_count": 7,
          "metadata": {},
          "output_type": "execute_result"
        }
      ],
      "source": [
        "from transformers import *\n",
        "\n",
        "# Load model, model config and tokenizer via Transformers\n",
        "custom_config = AutoConfig.from_pretrained('neuralmind/bert-large-portuguese-cased')\n",
        "custom_config.output_hidden_states=True\n",
        "custom_tokenizer = AutoTokenizer.from_pretrained('neuralmind/bert-large-portuguese-cased')\n",
        "custom_model = AutoModel.from_pretrained('neuralmind/bert-large-portuguese-cased', config=custom_config)\n",
        "\n",
        "from summarizer import Summarizer\n",
        "\n",
        "model = Summarizer(custom_model=custom_model, custom_tokenizer=custom_tokenizer)\n",
        "\n",
        "model(artigo_portugues.cleaned_text)\n"
      ]
    }
  ],
  "metadata": {
    "colab": {
      "name": "Sumarização dos Artigos do TCC.ipynb",
      "provenance": []
    },
    "kernelspec": {
      "display_name": "Python 3",
      "name": "python3"
    },
    "language_info": {
      "codemirror_mode": {
        "name": "ipython",
        "version": 3
      },
      "file_extension": ".py",
      "mimetype": "text/x-python",
      "name": "python",
      "nbconvert_exporter": "python",
      "pygments_lexer": "ipython3",
      "version": "3.8.5"
    }
  },
  "nbformat": 4,
  "nbformat_minor": 0
}
